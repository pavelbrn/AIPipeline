{
 "cells": [
  {
   "cell_type": "markdown",
   "metadata": {},
   "source": [
    "# Prostate Pathology Classifier "
   ]
  },
  {
   "cell_type": "markdown",
   "metadata": {},
   "source": [
    "The following project will use a convolutional neural network to classify whole slide images(WSI) of prostate pathology. The original CNN will use an Inception V3 model comined with an augmentation algorithm to train the model."
   ]
  },
  {
   "cell_type": "markdown",
   "metadata": {},
   "source": [
    "According to Jerome Cheng, MD, who pulbished a short summary on computational pathology on July 2020, its is more ideal to use a pre-trained CNN such as VGG-16, VGG-19, ResNet50 or Inception v3. The reason being, that features embedded inside these neural networks can be used to train a classifier for pathology whole slide images. A working example of this model can be found in a study by Iizuka, O., Kanavati, F., Kato, K. et al.(see link below), who used an augmented Inception V3 model to train a deep learning model that recognizes whole slide images of gastric and epithelian tumors. I will therefore use my own customized augmente Inception V3 model to train on a prostate cancer dataset. \n",
    "\n",
    "- Computationa Pathology by Jerome Cheng, MD: https://www.pathologyoutlines.com/topic/informaticsconvnet.html\n",
    "- Deep Learning Models for Histopathological Classification of Gastric and Colonic Epithelial Tumours: https://www.nature.com/articles/s41598-020-58467-9"
   ]
  },
  {
   "cell_type": "code",
   "execution_count": 126,
   "metadata": {},
   "outputs": [],
   "source": [
    "import tensorflow as tf\n",
    "from tensorflow.keras import layers\n",
    "#from tensorflow import keras\n",
    "import os\n",
    "#from tensorflow.keras.preprocessing import image\n",
    "from tensorflow.keras.preprocessing import image\n",
    "import numpy as np\n",
    "from PIL import Image\n",
    "from sklearn.model_selection import train_test_split\n",
    "import pandas as pd\n",
    "import matplotlib.pyplot as plt\n",
    "from tensorflow.keras.applications.inception_v3 import InceptionV3\n"
   ]
  },
  {
   "cell_type": "markdown",
   "metadata": {},
   "source": [
    "### Define Constants"
   ]
  },
  {
   "cell_type": "code",
   "execution_count": 127,
   "metadata": {},
   "outputs": [],
   "source": [
    "IMAGES_PATH = \"data_prostate/images/train_images/\"\n",
    "LABELS_PATH = \"data_prostate/labels/train.csv\"\n",
    "\n",
    "INPUT_SHAPE = (224, 224, 3)\n",
    "\n",
    "RANDOM_STATE = 97"
   ]
  },
  {
   "cell_type": "markdown",
   "metadata": {},
   "source": [
    "### Loading the Data"
   ]
  },
  {
   "cell_type": "markdown",
   "metadata": {},
   "source": [
    "#### I. Loading the Labels"
   ]
  },
  {
   "cell_type": "code",
   "execution_count": 128,
   "metadata": {},
   "outputs": [
    {
     "data": {
      "text/html": [
       "<div>\n",
       "<style scoped>\n",
       "    .dataframe tbody tr th:only-of-type {\n",
       "        vertical-align: middle;\n",
       "    }\n",
       "\n",
       "    .dataframe tbody tr th {\n",
       "        vertical-align: top;\n",
       "    }\n",
       "\n",
       "    .dataframe thead th {\n",
       "        text-align: right;\n",
       "    }\n",
       "</style>\n",
       "<table border=\"1\" class=\"dataframe\">\n",
       "  <thead>\n",
       "    <tr style=\"text-align: right;\">\n",
       "      <th></th>\n",
       "      <th>data_provider</th>\n",
       "      <th>isup_grade</th>\n",
       "      <th>gleason_score</th>\n",
       "    </tr>\n",
       "    <tr>\n",
       "      <th>image_id</th>\n",
       "      <th></th>\n",
       "      <th></th>\n",
       "      <th></th>\n",
       "    </tr>\n",
       "  </thead>\n",
       "  <tbody>\n",
       "    <tr>\n",
       "      <th>0005f7aaab2800f6170c399693a96917</th>\n",
       "      <td>karolinska</td>\n",
       "      <td>0</td>\n",
       "      <td>0+0</td>\n",
       "    </tr>\n",
       "    <tr>\n",
       "      <th>000920ad0b612851f8e01bcc880d9b3d</th>\n",
       "      <td>karolinska</td>\n",
       "      <td>0</td>\n",
       "      <td>0+0</td>\n",
       "    </tr>\n",
       "    <tr>\n",
       "      <th>0018ae58b01bdadc8e347995b69f99aa</th>\n",
       "      <td>radboud</td>\n",
       "      <td>4</td>\n",
       "      <td>4+4</td>\n",
       "    </tr>\n",
       "    <tr>\n",
       "      <th>001c62abd11fa4b57bf7a6c603a11bb9</th>\n",
       "      <td>karolinska</td>\n",
       "      <td>4</td>\n",
       "      <td>4+4</td>\n",
       "    </tr>\n",
       "    <tr>\n",
       "      <th>001d865e65ef5d2579c190a0e0350d8f</th>\n",
       "      <td>karolinska</td>\n",
       "      <td>0</td>\n",
       "      <td>0+0</td>\n",
       "    </tr>\n",
       "  </tbody>\n",
       "</table>\n",
       "</div>"
      ],
      "text/plain": [
       "                                 data_provider  isup_grade gleason_score\n",
       "image_id                                                                \n",
       "0005f7aaab2800f6170c399693a96917    karolinska           0           0+0\n",
       "000920ad0b612851f8e01bcc880d9b3d    karolinska           0           0+0\n",
       "0018ae58b01bdadc8e347995b69f99aa       radboud           4           4+4\n",
       "001c62abd11fa4b57bf7a6c603a11bb9    karolinska           4           4+4\n",
       "001d865e65ef5d2579c190a0e0350d8f    karolinska           0           0+0"
      ]
     },
     "execution_count": 128,
     "metadata": {},
     "output_type": "execute_result"
    }
   ],
   "source": [
    "patho_csv = pd.read_csv(LABELS_PATH,index_col=0)\n",
    "patho_csv.head()"
   ]
  },
  {
   "cell_type": "code",
   "execution_count": 129,
   "metadata": {},
   "outputs": [
    {
     "data": {
      "text/plain": [
       "(10616, 3)"
      ]
     },
     "execution_count": 129,
     "metadata": {},
     "output_type": "execute_result"
    }
   ],
   "source": [
    "patho_csv.shape"
   ]
  },
  {
   "cell_type": "code",
   "execution_count": 130,
   "metadata": {},
   "outputs": [],
   "source": [
    "isups = patho_csv.isup_grade.value_counts()"
   ]
  },
  {
   "cell_type": "code",
   "execution_count": 131,
   "metadata": {},
   "outputs": [
    {
     "data": {
      "text/plain": [
       "<AxesSubplot:>"
      ]
     },
     "execution_count": 131,
     "metadata": {},
     "output_type": "execute_result"
    },
    {
     "data": {
      "image/png": "[encoded data removed]",
      "text/plain": [
       "<Figure size 432x288 with 1 Axes>"
      ]
     },
     "metadata": {
      "needs_background": "light"
     },
     "output_type": "display_data"
    }
   ],
   "source": [
    "isups.plot.bar()"
   ]
  },
  {
   "cell_type": "markdown",
   "metadata": {},
   "source": [
    "#### II. Adding a Binary Classification Column"
   ]
  },
  {
   "cell_type": "markdown",
   "metadata": {},
   "source": [
    "I will experiment with building 2 different types of models:\n",
    "- Binary classification -> 1 = suspect cancer, 0 = low cancer probability\n",
    "- A multi classification model based on the ISUP grading (usung a One-Hot-Encoder)"
   ]
  },
  {
   "cell_type": "markdown",
   "metadata": {},
   "source": [
    "For the binary classification part I will add an extra column called `binary_class` where any ISUP score above 1 will be classified as being suspect"
   ]
  },
  {
   "cell_type": "code",
   "execution_count": 132,
   "metadata": {},
   "outputs": [],
   "source": [
    "bool_benign = patho_csv.isup_grade <= 1\n",
    "patho_csv.loc[bool_benign, 'binary_class'] = 0\n",
    "\n",
    "bool_malignant = patho_csv.isup_grade > 1\n",
    "patho_csv.loc[bool_malignant, 'binary_class'] = 1\n"
   ]
  },
  {
   "cell_type": "code",
   "execution_count": 133,
   "metadata": {},
   "outputs": [
    {
     "data": {
      "text/html": [
       "<div>\n",
       "<style scoped>\n",
       "    .dataframe tbody tr th:only-of-type {\n",
       "        vertical-align: middle;\n",
       "    }\n",
       "\n",
       "    .dataframe tbody tr th {\n",
       "        vertical-align: top;\n",
       "    }\n",
       "\n",
       "    .dataframe thead th {\n",
       "        text-align: right;\n",
       "    }\n",
       "</style>\n",
       "<table border=\"1\" class=\"dataframe\">\n",
       "  <thead>\n",
       "    <tr style=\"text-align: right;\">\n",
       "      <th></th>\n",
       "      <th>data_provider</th>\n",
       "      <th>isup_grade</th>\n",
       "      <th>gleason_score</th>\n",
       "      <th>binary_class</th>\n",
       "    </tr>\n",
       "    <tr>\n",
       "      <th>image_id</th>\n",
       "      <th></th>\n",
       "      <th></th>\n",
       "      <th></th>\n",
       "      <th></th>\n",
       "    </tr>\n",
       "  </thead>\n",
       "  <tbody>\n",
       "    <tr>\n",
       "      <th>0005f7aaab2800f6170c399693a96917</th>\n",
       "      <td>karolinska</td>\n",
       "      <td>0</td>\n",
       "      <td>0+0</td>\n",
       "      <td>0.0</td>\n",
       "    </tr>\n",
       "    <tr>\n",
       "      <th>000920ad0b612851f8e01bcc880d9b3d</th>\n",
       "      <td>karolinska</td>\n",
       "      <td>0</td>\n",
       "      <td>0+0</td>\n",
       "      <td>0.0</td>\n",
       "    </tr>\n",
       "    <tr>\n",
       "      <th>0018ae58b01bdadc8e347995b69f99aa</th>\n",
       "      <td>radboud</td>\n",
       "      <td>4</td>\n",
       "      <td>4+4</td>\n",
       "      <td>1.0</td>\n",
       "    </tr>\n",
       "    <tr>\n",
       "      <th>001c62abd11fa4b57bf7a6c603a11bb9</th>\n",
       "      <td>karolinska</td>\n",
       "      <td>4</td>\n",
       "      <td>4+4</td>\n",
       "      <td>1.0</td>\n",
       "    </tr>\n",
       "    <tr>\n",
       "      <th>001d865e65ef5d2579c190a0e0350d8f</th>\n",
       "      <td>karolinska</td>\n",
       "      <td>0</td>\n",
       "      <td>0+0</td>\n",
       "      <td>0.0</td>\n",
       "    </tr>\n",
       "  </tbody>\n",
       "</table>\n",
       "</div>"
      ],
      "text/plain": [
       "                                 data_provider  isup_grade gleason_score  \\\n",
       "image_id                                                                   \n",
       "0005f7aaab2800f6170c399693a96917    karolinska           0           0+0   \n",
       "000920ad0b612851f8e01bcc880d9b3d    karolinska           0           0+0   \n",
       "0018ae58b01bdadc8e347995b69f99aa       radboud           4           4+4   \n",
       "001c62abd11fa4b57bf7a6c603a11bb9    karolinska           4           4+4   \n",
       "001d865e65ef5d2579c190a0e0350d8f    karolinska           0           0+0   \n",
       "\n",
       "                                  binary_class  \n",
       "image_id                                        \n",
       "0005f7aaab2800f6170c399693a96917           0.0  \n",
       "000920ad0b612851f8e01bcc880d9b3d           0.0  \n",
       "0018ae58b01bdadc8e347995b69f99aa           1.0  \n",
       "001c62abd11fa4b57bf7a6c603a11bb9           1.0  \n",
       "001d865e65ef5d2579c190a0e0350d8f           0.0  "
      ]
     },
     "execution_count": 133,
     "metadata": {},
     "output_type": "execute_result"
    }
   ],
   "source": [
    "patho_csv.head()"
   ]
  },
  {
   "cell_type": "markdown",
   "metadata": {},
   "source": [
    "#### III. Loading the Images"
   ]
  },
  {
   "cell_type": "markdown",
   "metadata": {},
   "source": [
    "I will load images using the following steps:\n",
    "- create a label train set from our labels y_train, y_test\n",
    "- create an image training set based on our y_train image_id, x_train, x_test\n"
   ]
  },
  {
   "cell_type": "code",
   "execution_count": 134,
   "metadata": {},
   "outputs": [],
   "source": [
    "# create a list of all the images names\n",
    "#image_dir=os.listdir(IMAGES_PATH)\n",
    "\n",
    "image_dir = patho_csv.index\n"
   ]
  },
  {
   "cell_type": "code",
   "execution_count": 135,
   "metadata": {},
   "outputs": [],
   "source": [
    "# Load images based on the patho_csv dataframe index\n",
    "\n",
    "def get_image_list(target_dataframe: pd.DataFrame,max_range:int):\n",
    "    target_index = target_dataframe.index\n",
    "    ''' Load a lit of images, based on the index of the patho_csv dataframe\n",
    "    Input: \n",
    "        DataFrame: Target dataframe\n",
    "        max_range:  No. of max images\n",
    "        \n",
    "    Output is a tupule of:\n",
    "        List of images up to max_range\n",
    "        dataframe slice up to max_range\n",
    "    '''\n",
    "    image_list = []\n",
    "    for img,i in zip(target_index, range(max_range)):\n",
    "        if img != '.DS_Store':\n",
    "            ext_img = image.load_img(str(IMAGES_PATH+img+'.png'), target_size=INPUT_SHAPE)\n",
    "            image_list.append(ext_img)\n",
    "\n",
    "    y_train_df = target_dataframe.iloc[:max_range]\n",
    "    return image_list, y_train_df\n"
   ]
  },
  {
   "cell_type": "code",
   "execution_count": 136,
   "metadata": {},
   "outputs": [],
   "source": [
    "\n",
    "# This is a list of all the images - X_train_list\n",
    "# This is a list of all the labels - y_train_list\n",
    "X_list,y_df = get_image_list(patho_csv,20)\n"
   ]
  },
  {
   "cell_type": "markdown",
   "metadata": {},
   "source": [
    "### Train, Test and Split"
   ]
  },
  {
   "cell_type": "markdown",
   "metadata": {},
   "source": [
    "In this section I will split the images and corresponding labels into training and testing dataset"
   ]
  },
  {
   "cell_type": "code",
   "execution_count": 176,
   "metadata": {},
   "outputs": [
    {
     "data": {
      "text/plain": [
       "((16, 4), 16)"
      ]
     },
     "execution_count": 176,
     "metadata": {},
     "output_type": "execute_result"
    }
   ],
   "source": [
    "X_train, X_test, y_train_df, y_test_df = train_test_split(X_list, y_df, test_size=0.20, random_state=RANDOM_STATE)\n",
    "y_train_df.shape, len(X_train)"
   ]
  },
  {
   "cell_type": "code",
   "execution_count": null,
   "metadata": {},
   "outputs": [],
   "source": []
  },
  {
   "cell_type": "markdown",
   "metadata": {},
   "source": [
    "### Convert Test and Train for AI Model"
   ]
  },
  {
   "cell_type": "code",
   "execution_count": 172,
   "metadata": {},
   "outputs": [],
   "source": [
    "# Convert images to numpy array\n",
    "def create_feature_label_array(image_list):\n",
    "    '''Return a numpy array of all images'''\n",
    "    feature_images= []\n",
    "    for image in image_list:\n",
    "        data = np.asarray( image )\n",
    "        feature_images.append(data)\n",
    "\n",
    "    feature_images = np.array(feature_images)\n",
    "    return feature_images"
   ]
  },
  {
   "cell_type": "code",
   "execution_count": 173,
   "metadata": {},
   "outputs": [],
   "source": [
    "# Create a numpy array of all images\n",
    "X_train_np = create_feature_label_array(X_train)\n",
    "\n",
    "# Rescale X_train_np\n",
    "X_train_np = X_train_np / 255.0"
   ]
  },
  {
   "cell_type": "code",
   "execution_count": 177,
   "metadata": {},
   "outputs": [
    {
     "data": {
      "text/html": [
       "<div>\n",
       "<style scoped>\n",
       "    .dataframe tbody tr th:only-of-type {\n",
       "        vertical-align: middle;\n",
       "    }\n",
       "\n",
       "    .dataframe tbody tr th {\n",
       "        vertical-align: top;\n",
       "    }\n",
       "\n",
       "    .dataframe thead th {\n",
       "        text-align: right;\n",
       "    }\n",
       "</style>\n",
       "<table border=\"1\" class=\"dataframe\">\n",
       "  <thead>\n",
       "    <tr style=\"text-align: right;\">\n",
       "      <th></th>\n",
       "      <th>data_provider</th>\n",
       "      <th>isup_grade</th>\n",
       "      <th>gleason_score</th>\n",
       "      <th>binary_class</th>\n",
       "    </tr>\n",
       "    <tr>\n",
       "      <th>image_id</th>\n",
       "      <th></th>\n",
       "      <th></th>\n",
       "      <th></th>\n",
       "      <th></th>\n",
       "    </tr>\n",
       "  </thead>\n",
       "  <tbody>\n",
       "    <tr>\n",
       "      <th>0005f7aaab2800f6170c399693a96917</th>\n",
       "      <td>karolinska</td>\n",
       "      <td>0</td>\n",
       "      <td>0+0</td>\n",
       "      <td>0.0</td>\n",
       "    </tr>\n",
       "    <tr>\n",
       "      <th>006f4d8d3556dd21f6424202c2d294a9</th>\n",
       "      <td>karolinska</td>\n",
       "      <td>0</td>\n",
       "      <td>0+0</td>\n",
       "      <td>0.0</td>\n",
       "    </tr>\n",
       "    <tr>\n",
       "      <th>003046e27c8ead3e3db155780dc5498e</th>\n",
       "      <td>karolinska</td>\n",
       "      <td>1</td>\n",
       "      <td>3+3</td>\n",
       "      <td>0.0</td>\n",
       "    </tr>\n",
       "    <tr>\n",
       "      <th>004dd32d9cd167d9cc31c13b704498af</th>\n",
       "      <td>radboud</td>\n",
       "      <td>1</td>\n",
       "      <td>3+3</td>\n",
       "      <td>0.0</td>\n",
       "    </tr>\n",
       "    <tr>\n",
       "      <th>007433133235efc27a39f11df6940829</th>\n",
       "      <td>radboud</td>\n",
       "      <td>0</td>\n",
       "      <td>negative</td>\n",
       "      <td>0.0</td>\n",
       "    </tr>\n",
       "  </tbody>\n",
       "</table>\n",
       "</div>"
      ],
      "text/plain": [
       "                                 data_provider  isup_grade gleason_score  \\\n",
       "image_id                                                                   \n",
       "0005f7aaab2800f6170c399693a96917    karolinska           0           0+0   \n",
       "006f4d8d3556dd21f6424202c2d294a9    karolinska           0           0+0   \n",
       "003046e27c8ead3e3db155780dc5498e    karolinska           1           3+3   \n",
       "004dd32d9cd167d9cc31c13b704498af       radboud           1           3+3   \n",
       "007433133235efc27a39f11df6940829       radboud           0      negative   \n",
       "\n",
       "                                  binary_class  \n",
       "image_id                                        \n",
       "0005f7aaab2800f6170c399693a96917           0.0  \n",
       "006f4d8d3556dd21f6424202c2d294a9           0.0  \n",
       "003046e27c8ead3e3db155780dc5498e           0.0  \n",
       "004dd32d9cd167d9cc31c13b704498af           0.0  \n",
       "007433133235efc27a39f11df6940829           0.0  "
      ]
     },
     "execution_count": 177,
     "metadata": {},
     "output_type": "execute_result"
    }
   ],
   "source": [
    "y_train_df.head()"
   ]
  },
  {
   "cell_type": "code",
   "execution_count": 178,
   "metadata": {},
   "outputs": [],
   "source": [
    "y_train = y_train['binary_class'].values"
   ]
  },
  {
   "cell_type": "code",
   "execution_count": 169,
   "metadata": {},
   "outputs": [],
   "source": [
    "# Create a numpy array of all labels\n",
    "y_train = y_df"
   ]
  },
  {
   "cell_type": "code",
   "execution_count": 179,
   "metadata": {},
   "outputs": [
    {
     "data": {
      "text/plain": [
       "((16, 224, 224, 3), (16,))"
      ]
     },
     "execution_count": 179,
     "metadata": {},
     "output_type": "execute_result"
    }
   ],
   "source": [
    "X_train_np.shape, y_train.shape"
   ]
  },
  {
   "cell_type": "markdown",
   "metadata": {},
   "source": [
    "### Creating a CNN Model"
   ]
  },
  {
   "cell_type": "markdown",
   "metadata": {},
   "source": [
    "#### I. Instantiating Inception V3 and Exploring the Model"
   ]
  },
  {
   "cell_type": "code",
   "execution_count": 141,
   "metadata": {},
   "outputs": [],
   "source": [
    "# Instantiate the InceptionV3 model and drop the top layer\n",
    "inception_model = InceptionV3(weights='imagenet', include_top=False, input_shape=INPUT_SHAPE)"
   ]
  },
  {
   "cell_type": "code",
   "execution_count": 142,
   "metadata": {},
   "outputs": [
    {
     "data": {
      "text/plain": [
       "311"
      ]
     },
     "execution_count": 142,
     "metadata": {},
     "output_type": "execute_result"
    }
   ],
   "source": [
    "# There are 311 layer in the pretrained Inception V3 model\n",
    "len(inception_model.layers)"
   ]
  },
  {
   "cell_type": "code",
   "execution_count": 143,
   "metadata": {},
   "outputs": [],
   "source": [
    "# Freeze all layers:\n",
    "for layer in inception_model.layers:\n",
    "    layer.trainable = False"
   ]
  },
  {
   "cell_type": "code",
   "execution_count": 144,
   "metadata": {},
   "outputs": [
    {
     "name": "stdout",
     "output_type": "stream",
     "text": [
      "2.0.0\n"
     ]
    }
   ],
   "source": [
    "print(tf.__version__)"
   ]
  },
  {
   "cell_type": "markdown",
   "metadata": {},
   "source": []
  },
  {
   "cell_type": "code",
   "execution_count": 150,
   "metadata": {},
   "outputs": [],
   "source": [
    "#augment_images= tf.keras.Sequential([\n",
    "    #tensorflow.image.random_flip_left_right(Image),\n",
    "#    layers.RandomFlip(\"horizontal_and_vertical\"),\n",
    "    #layers.experimental.preprocessing.RandomFlip(\"horizontal\"),\n",
    "#    tf.keras.layers.RandomRotation(0.2)\n",
    "    #tf.keras.layers.experimental.preprocessing.RandomBrightness(0.2),\n",
    "    #tf.keras.layers.experimental.preprocessing.RandomFlip(\"horizontal\", seed=RANDOM_STATE),\n",
    "    #tf.keras.layers.experimental.preprocessing.RandomFlip(\"vertical\", seed=RANDOM_STATE)\n",
    "#])"
   ]
  },
  {
   "cell_type": "code",
   "execution_count": 148,
   "metadata": {},
   "outputs": [],
   "source": [
    "patho_model_main = tf.keras.Sequential([\n",
    "    #augment_images,\n",
    "    inception_model,\n",
    "    layers.GlobalAveragePooling2D(),\n",
    "    layers.Dense(32, activation='relu'),\n",
    "\n",
    "    # Flateen the layers to a 1D vector and use a dropout layer to prevent overfitting\n",
    "    layers.Flatten(),\n",
    "    layers.Dropout(0.5),\n",
    "\n",
    "    # Final output layer, with 1 node and sigmoid activation because we are\n",
    "    # training a binary classifier:\n",
    "    layers.Dense(1, activation='sigmoid')\n",
    "])"
   ]
  },
  {
   "cell_type": "code",
   "execution_count": 151,
   "metadata": {},
   "outputs": [],
   "source": [
    "batch_size = 100\n",
    "epochs = 1"
   ]
  },
  {
   "cell_type": "code",
   "execution_count": 152,
   "metadata": {},
   "outputs": [],
   "source": [
    "patho_model_main.compile(loss=\"binary_crossentropy\", optimizer=\"adam\", metrics=[\"accuracy\"])"
   ]
  },
  {
   "cell_type": "code",
   "execution_count": 180,
   "metadata": {},
   "outputs": [
    {
     "name": "stdout",
     "output_type": "stream",
     "text": [
      "Train on 14 samples, validate on 2 samples\n",
      "14/14 [==============================] - 9s 609ms/sample - loss: 0.6304 - accuracy: 0.5714 - val_loss: 1.9773 - val_accuracy: 0.5000\n"
     ]
    },
    {
     "data": {
      "text/plain": [
       "<tensorflow.python.keras.callbacks.History at 0x7f80070dd3d0>"
      ]
     },
     "execution_count": 180,
     "metadata": {},
     "output_type": "execute_result"
    }
   ],
   "source": [
    "patho_model_main.fit(X_train_np, y_train, batch_size=batch_size, epochs=epochs, validation_split=0.1)\n",
    "\n",
    "\n"
   ]
  },
  {
   "cell_type": "code",
   "execution_count": null,
   "metadata": {},
   "outputs": [],
   "source": [
    "patho_model_main.save(\"patho_alpha_model.h5\")"
   ]
  },
  {
   "cell_type": "code",
   "execution_count": null,
   "metadata": {},
   "outputs": [],
   "source": []
  }
 ],
 "metadata": {
  "interpreter": {
   "hash": "c45ea8bb1de3299005d7c1d0be9c3933e1c240daf6b45f5f44d854807d77c9dd"
  },
  "kernelspec": {
   "display_name": "Python 3.7.11 64-bit ('tf': conda)",
   "language": "python",
   "name": "python3"
  },
  "language_info": {
   "codemirror_mode": {
    "name": "ipython",
    "version": 3
   },
   "file_extension": ".py",
   "mimetype": "text/x-python",
   "name": "python",
   "nbconvert_exporter": "python",
   "pygments_lexer": "ipython3",
   "version": "3.7.11"
  },
  "orig_nbformat": 4
 },
 "nbformat": 4,
 "nbformat_minor": 2
}
